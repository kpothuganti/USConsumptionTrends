{
 "cells": [
  {
   "cell_type": "code",
   "execution_count": 1,
   "id": "7c99af29",
   "metadata": {},
   "outputs": [],
   "source": [
    "import matplotlib.pyplot as plt"
   ]
  },
  {
   "cell_type": "code",
   "execution_count": 2,
   "id": "3324e264",
   "metadata": {},
   "outputs": [],
   "source": [
    "#import numpy as np"
   ]
  },
  {
   "cell_type": "code",
   "execution_count": 3,
   "id": "431dc9ee",
   "metadata": {},
   "outputs": [],
   "source": [
    "import pandas as pd"
   ]
  },
  {
   "cell_type": "code",
   "execution_count": 5,
   "id": "2a35dcc7",
   "metadata": {},
   "outputs": [
    {
     "name": "stderr",
     "output_type": "stream",
     "text": [
      "No artists with labels found to put in legend.  Note that artists whose label start with an underscore are ignored when legend() is called with no argument.\n"
     ]
    },
    {
     "data": {
      "image/png": "[encoded data removed]",
      "text/plain": [
       "<Figure size 432x288 with 1 Axes>"
      ]
     },
     "metadata": {
      "needs_background": "light"
     },
     "output_type": "display_data"
    }
   ],
   "source": [
    "df = pd.read_csv('/Users/ksp/Desktop/Data Visualization Project (summer 2022)/macro data (USA only).csv')\n",
    "df.head()\n",
    "df_grouped = df.groupby('Year').sum()\n",
    "[['Calories from Carbohydrates','Calories from Fat','Calories from Protein']]\n",
    "df_grouped\n",
    "\n",
    "years = df['Year']\n",
    "calories = df['Total Calories']\n",
    "\n",
    "carbs = df['Calories from Carbohydrates']\n",
    "fats = df['Calories from Fat']\n",
    "protein = df['Calories from Protein']\n",
    "\n",
    "plt.bar(years, carbs)\n",
    "plt.bar(years, fats, bottom=carbs)\n",
    "plt.bar(years, protein, bottom = (carbs+fats)) #maybe change colors\n",
    "plt.xlabel('Years')\n",
    "plt.ylabel('Calories')\n",
    "plt.title('Macromolecule Composition of Yearly Average Caloric Intake') #make a better title\n",
    "plt.legend(['kcal from Carbohydrates','kcal from Fat','kcal from Protein']) #figure out how to prevent it from covering data\n",
    "\n",
    "# g = plt.figure()\n",
    "# g.set_figwidth(10)\n",
    "# g.set_figheight(10)\n",
    "# plt.figure(figsize=(50,50)) figure out how to make the graph look bigger\n",
    "\n",
    "plt.grid(axis = 'y')\n",
    "plt.tight_layout()\n",
    "plt.legend(bbox_to_anchor=(1,1))\n",
    "plt.show()\n",
    "\n",
    "# fields = ['Calories from Carbohydrates','Calories from Fat','Calories from Protein']\n",
    "# colors = ['#1D2F6F', '#8390FA', '#6EAF46']\n",
    "# labels = ['Carbs', 'Protein', 'Fat']\n",
    "# fig, ax = plt.subplots(1, figsize=(12, 10))\n",
    "# left = len(df_grouped) * [0]\n",
    "# for idx, name in enumerate(fields):\n",
    "#     plt.bar(df_grouped.index, df_grouped[name], color=colors[idx])\n",
    "#     left = left + df_grouped[name]\n",
    "# plt.title('Calories coming from Macromolecules\\n', loc='left')\n",
    "# plt.legend(labels, bbox_to_anchor=([0.55, 1, 0, 0]), ncol=3, frameon=False)\n",
    "# plt.xlabel('Years')\n",
    "# plt.ylabel('Calories')\n",
    "# ax.spines['right'].set_visible(False)\n",
    "# ax.spines['left'].set_visible(False)\n",
    "# ax.spines['top'].set_visible(False)\n",
    "# ax.spines['bottom'].set_visible(False)\n",
    "# plt.ylim(-0.5, ax.get_yticks()[-1] + 0.5)\n",
    "# ax.set_axisbelow(True)\n",
    "# ax.xaxis.grid(color='gray', linestyle='dashed')\n",
    "# ax.set_xticklabels(labels,rotation='horizontal')\n",
    "# plt.show()"
   ]
  },
  {
   "cell_type": "code",
   "execution_count": null,
   "id": "f406f5b2",
   "metadata": {},
   "outputs": [],
   "source": []
  },
  {
   "cell_type": "code",
   "execution_count": null,
   "id": "89a3b44d",
   "metadata": {},
   "outputs": [],
   "source": []
  },
  {
   "cell_type": "code",
   "execution_count": null,
   "id": "52d258c0",
   "metadata": {},
   "outputs": [],
   "source": []
  },
  {
   "cell_type": "code",
   "execution_count": null,
   "id": "61d9bba1",
   "metadata": {},
   "outputs": [],
   "source": []
  },
  {
   "cell_type": "code",
   "execution_count": null,
   "id": "2bc5bedb",
   "metadata": {},
   "outputs": [],
   "source": []
  },
  {
   "cell_type": "code",
   "execution_count": null,
   "id": "5d4d84bc",
   "metadata": {},
   "outputs": [],
   "source": []
  },
  {
   "cell_type": "code",
   "execution_count": null,
   "id": "47d88e07",
   "metadata": {},
   "outputs": [],
   "source": []
  },
  {
   "cell_type": "code",
   "execution_count": null,
   "id": "28aaea1d",
   "metadata": {},
   "outputs": [],
   "source": []
  }
 ],
 "metadata": {
  "kernelspec": {
   "display_name": "Python 3",
   "language": "python",
   "name": "python3"
  },
  "language_info": {
   "codemirror_mode": {
    "name": "ipython",
    "version": 3
   },
   "file_extension": ".py",
   "mimetype": "text/x-python",
   "name": "python",
   "nbconvert_exporter": "python",
   "pygments_lexer": "ipython3",
   "version": "3.8.8"
  }
 },
 "nbformat": 4,
 "nbformat_minor": 5
}
